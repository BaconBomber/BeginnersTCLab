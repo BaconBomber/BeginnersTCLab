{
 "cells": [
  {
   "cell_type": "markdown",
   "metadata": {},
   "source": [
    "# Objects\n",
    "Objects are created to represent something. For the Temperture Control Kit, it's object is usually named by us ```lab```. You can name objects the name that you will remember and that are easy to type. For something like your incubator, you could make an object to connect with it, called something like ```tempcontrol```. You use a variable to assign an object a name.\n",
    "\n",
    "```python\n",
    "lab = tclab.TCLab()\n",
    "```"
   ]
  },
  {
   "cell_type": "markdown",
   "metadata": {},
   "source": [
    "## Explanation \n",
    "The first part of an object is what you are naming it. This is called a parent to child relationship. Naming an object is called this because the child inherents all the functions that the parent had. The child object is what you use in your code.\n",
    "\n",
    "The second part after ```=```, goes into the downloaded package called ```tclab```. Then it looks for and uses ```TCLab``` to connect with your tclab. \n",
    "\n",
    "The ```.``` makes the program look for a sub-object, and the ```()``` tells python it is a function. This a function with no input arguments. Functions will be taught next lesson. \n",
    "\n",
    "So ```lab``` or whatever you decide to call it, is assigned to programming found in \n",
    "```python\n",
    "tclab.TCLab()```"
   ]
  },
  {
   "cell_type": "markdown",
   "metadata": {},
   "source": [
    "### Install Temperature Control Lab\n",
    "This code will first ```try``` and import tclab. If it can't do that it uses ```except``` and installs the program that will let you use your Temperature Control Kit. Run the program to install TCLab. If installing TCLab is not working for you and the connection test below isn't working, try going [here](https://apmonitor.com/pdc/index.php/Main/ArduinoSetup) for additional instruction.\n",
    "\n",
    "(If you want to install this package just for yourself, keep the code ```--user``` in lines 6 and 8)"
   ]
  },
  {
   "cell_type": "code",
   "execution_count": 6,
   "metadata": {},
   "outputs": [],
   "source": [
    "# install tclab\n",
    "try:\n",
    "    import tclab\n",
    "except:\n",
    "    # Needed to communicate through usb port\n",
    "    !pip install --user pyserial\n",
    "    # The --user is put in for accounts without admin privileges\n",
    "    !pip install --user tclab \n",
    "    # restart kernel if this doesn't import\n",
    "    import tclab"
   ]
  },
  {
   "cell_type": "markdown",
   "metadata": {},
   "source": [
    "### Connection Test\n",
    "This object is what allows you to connect with the kit, read current temperatures, adjust heaters, or change the LED brightness. In the next lesson we will go over the basics of what this temperture control kit can really do. \n",
    "\n",
    "Plug in your TCLab if it's available. Now try running and the program will create the object from below. Now if tclab is installed and imported, it should connect, tell you additional information about your TCLab, then disconnect. If it doesn't work, or comes up with an error, go to the file __useful for tclab__.\n",
    "\n",
    "Don't worry if this is confusing, most of it will be explained, next lesson."
   ]
  },
  {
   "cell_type": "code",
   "execution_count": 2,
   "metadata": {},
   "outputs": [
    {
     "name": "stdout",
     "output_type": "stream",
     "text": [
      "TCLab version 0.4.9\n",
      "Could not connect at high speed, but succeeded at low speed.\n",
      "This may be due to an old TCLab firmware.\n",
      "New Arduino TCLab firmware available at:\n",
      "https://github.com/jckantor/TCLab-sketch\n",
      "NHduino connected on port COM6 at 9600 baud.\n",
      "TCLab Firmware Version 1.01.\n",
      "TCLab disconnected successfully.\n"
     ]
    }
   ],
   "source": [
    "import tclab        # Imported Package\n",
    "lab = tclab.TCLab() # Object that connects with the kit\n",
    "lab.close()         # Disconnects with the Lab"
   ]
  }
 ],
 "metadata": {
  "kernelspec": {
   "display_name": "Python 3",
   "language": "python",
   "name": "python3"
  },
  "language_info": {
   "codemirror_mode": {
    "name": "ipython",
    "version": 3
   },
   "file_extension": ".py",
   "mimetype": "text/x-python",
   "name": "python",
   "nbconvert_exporter": "python",
   "pygments_lexer": "ipython3",
   "version": "3.7.3"
  }
 },
 "nbformat": 4,
 "nbformat_minor": 2
}
